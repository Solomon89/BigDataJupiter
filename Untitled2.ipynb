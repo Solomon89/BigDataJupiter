{
 "cells": [
  {
   "cell_type": "code",
   "execution_count": 5,
   "id": "changed-fireplace",
   "metadata": {},
   "outputs": [
    {
     "name": "stdout",
     "output_type": "stream",
     "text": [
      "0 \n",
      "1 2 3 4 5 \n",
      "6 7 8 9 10 \n",
      "11 12 13 14 15 \n",
      "16 17 18 19 20 \n",
      "21 22 23 24 25 \n",
      "26 27 28 29 30 \n",
      "31 32 33 34 35 \n",
      "36 37 38 39 \n"
     ]
    }
   ],
   "source": [
    "linestr = \"\"\n",
    "for i in range(40):\n",
    "    linestr += str(i) + \" \"\n",
    "    if(i%5 == 0):\n",
    "        linestr += \"\\n\"\n",
    "print(linestr)"
   ]
  },
  {
   "cell_type": "code",
   "execution_count": 8,
   "id": "proud-grass",
   "metadata": {},
   "outputs": [
    {
     "name": "stdout",
     "output_type": "stream",
     "text": [
      "0\t\n",
      "1\t2\t3\t4\t5\t\n",
      "6\t7\t8\t9\t10\t\n",
      "11\t12\t13\t14\t15\t\n",
      "16\t17\t18\t19\t20\t\n",
      "21\t22\t23\t24\t25\t\n",
      "26\t27\t28\t29\t30\t\n",
      "31\t32\t33\t34\t35\t\n",
      "36\t37\t38\t39\t\n"
     ]
    }
   ],
   "source": [
    "linestr = \"\"\n",
    "for i in range(40):\n",
    "    linestr += str(i) + \"\\t\"\n",
    "    if(i%5 == 0):\n",
    "        linestr += \"\\n\"\n",
    "print(linestr)"
   ]
  },
  {
   "cell_type": "code",
   "execution_count": 11,
   "id": "industrial-freeware",
   "metadata": {},
   "outputs": [
    {
     "name": "stdout",
     "output_type": "stream",
     "text": [
      "£\n"
     ]
    }
   ],
   "source": [
    "print(\"\\xA3\")"
   ]
  },
  {
   "cell_type": "code",
   "execution_count": 12,
   "id": "accurate-carroll",
   "metadata": {},
   "outputs": [
    {
     "name": "stdout",
     "output_type": "stream",
     "text": [
      "C:\n",
      "ew.txt\n"
     ]
    }
   ],
   "source": [
    "way = 'C:\\new.txt'\n",
    "print(way)"
   ]
  },
  {
   "cell_type": "code",
   "execution_count": 13,
   "id": "entertaining-tiffany",
   "metadata": {},
   "outputs": [
    {
     "name": "stdout",
     "output_type": "stream",
     "text": [
      "C:\\new.txt\n"
     ]
    }
   ],
   "source": [
    "way = r'C:\\new.txt'\n",
    "print(way)"
   ]
  },
  {
   "cell_type": "code",
   "execution_count": 15,
   "id": "executed-recycling",
   "metadata": {},
   "outputs": [
    {
     "name": "stdout",
     "output_type": "stream",
     "text": [
      "C:\\new.txt\n"
     ]
    }
   ],
   "source": [
    "way = 'C:\\\\new.txt'\n",
    "print(way)"
   ]
  },
  {
   "cell_type": "code",
   "execution_count": 18,
   "id": "adjustable-independence",
   "metadata": {},
   "outputs": [
    {
     "name": "stdout",
     "output_type": "stream",
     "text": [
      "\n",
      "По итогу соревнований судейская коллегия определила победителей. Места распределились следующим образом:\n",
      "\n",
      "1 место – ФЗК-б-о-18-1 команда 1\n",
      "2 место – ФЗК-б-о-18-1 команда 2\n",
      "3 место – команда ПОД-б-о-20-3\n",
      "– Эстафета прошла просто отлично, получился интересный спортивно-патриотический проект. Наши ребята смогли максимально приобщиться к зимним видам спорта. Все счастливы, смеются, улыбаются, а для нас это самое главное, – говорит руководитель проекта «Путь Победы!», председатель Студенческого спортивного клуба СКФУ «Южный слон» Василий Садовой.\n",
      "\n",
      "Все участники получили сертификаты, а победители заслуженные дипломы. \n",
      "\n",
      "Мероприятие было организовано в рамках реализации плана мероприятий Лаборатории общественных проектов СКФУ Факультетом физической культуры Института образования и социальных наук СКФУ при поддержке Студенческого спортивного клуба СКФУ «Южный слон».\n",
      "\n",
      "Справка: Лаборатория общественных проектов является площадкой интеграции, экспертизы и продвижения актуальных общественно-значимых и научно-исследовательских проектов и инициатив, направленных на формирование стабильной социально-политической ситуации и динамичного развития региона. Создана решением Ученого совета СКФУ в 2020 году.\n",
      "\n",
      "\n"
     ]
    }
   ],
   "source": [
    "bigText = '''\n",
    "По итогу соревнований судейская коллегия определила победителей. Места распределились следующим образом:\n",
    "\n",
    "1 место – ФЗК-б-о-18-1 команда 1\n",
    "2 место – ФЗК-б-о-18-1 команда 2\n",
    "3 место – команда ПОД-б-о-20-3\n",
    "– Эстафета прошла просто отлично, получился интересный спортивно-патриотический проект. Наши ребята смогли максимально приобщиться к зимним видам спорта. Все счастливы, смеются, улыбаются, а для нас это самое главное, – говорит руководитель проекта «Путь Победы!», председатель Студенческого спортивного клуба СКФУ «Южный слон» Василий Садовой.\n",
    "\n",
    "Все участники получили сертификаты, а победители заслуженные дипломы. \n",
    "\n",
    "Мероприятие было организовано в рамках реализации плана мероприятий Лаборатории общественных проектов СКФУ Факультетом физической культуры Института образования и социальных наук СКФУ при поддержке Студенческого спортивного клуба СКФУ «Южный слон».\n",
    "\n",
    "Справка: Лаборатория общественных проектов является площадкой интеграции, экспертизы и продвижения актуальных общественно-значимых и научно-исследовательских проектов и инициатив, направленных на формирование стабильной социально-политической ситуации и динамичного развития региона. Создана решением Ученого совета СКФУ в 2020 году.\n",
    "\n",
    "'''\n",
    "print(bigText)"
   ]
  },
  {
   "cell_type": "code",
   "execution_count": 19,
   "id": "absent-bangkok",
   "metadata": {},
   "outputs": [
    {
     "name": "stdout",
     "output_type": "stream",
     "text": [
      " ИБС  ИБС  ИБС  ИБС  ИБС \n"
     ]
    }
   ],
   "source": [
    "word = \" ИБС \"\n",
    "print(word * 5)"
   ]
  },
  {
   "cell_type": "code",
   "execution_count": 22,
   "id": "informed-swiss",
   "metadata": {},
   "outputs": [
    {
     "name": "stdout",
     "output_type": "stream",
     "text": [
      " \n",
      "И\n",
      "Б\n",
      "С\n",
      " \n"
     ]
    }
   ],
   "source": [
    "for char in word :\n",
    "    print(char)"
   ]
  },
  {
   "cell_type": "code",
   "execution_count": 23,
   "id": "simplified-murder",
   "metadata": {},
   "outputs": [
    {
     "data": {
      "text/plain": [
       "5"
      ]
     },
     "execution_count": 23,
     "metadata": {},
     "output_type": "execute_result"
    }
   ],
   "source": [
    "len(word)"
   ]
  },
  {
   "cell_type": "code",
   "execution_count": 47,
   "id": "numerical-silicon",
   "metadata": {},
   "outputs": [
    {
     "name": "stdout",
     "output_type": "stream",
     "text": [
      "Соломонов Дмитрий Владимирович\n"
     ]
    }
   ],
   "source": [
    "FIO = \"Соломонов Дмитрий Владимирович\"\n",
    "print(FIO)"
   ]
  },
  {
   "cell_type": "code",
   "execution_count": 32,
   "id": "handed-sessions",
   "metadata": {},
   "outputs": [
    {
     "name": "stdout",
     "output_type": "stream",
     "text": [
      "Соломонов\n",
      "Дмитрий\n",
      "Влдимирович\n",
      "Соломонов Дмитрий\n"
     ]
    }
   ],
   "source": [
    "print(FIO[0:9])\n",
    "print(FIO[10:17])\n",
    "print(FIO[18:])\n",
    "print(FIO[:17])"
   ]
  },
  {
   "cell_type": "code",
   "execution_count": 40,
   "id": "green-planner",
   "metadata": {},
   "outputs": [
    {
     "name": "stdout",
     "output_type": "stream",
     "text": [
      "ом\n"
     ]
    }
   ],
   "source": [
    "print(FIO[5:3:-1])"
   ]
  },
  {
   "cell_type": "code",
   "execution_count": 48,
   "id": "lasting-sharing",
   "metadata": {},
   "outputs": [
    {
     "name": "stdout",
     "output_type": "stream",
     "text": [
      "Соломонов Dмитрий Владимирович\n"
     ]
    }
   ],
   "source": [
    "FIO = FIO[:10] + \"D\" + FIO[11:]\n",
    "print(FIO)"
   ]
  },
  {
   "cell_type": "code",
   "execution_count": 51,
   "id": "saving-adrian",
   "metadata": {},
   "outputs": [
    {
     "name": "stdout",
     "output_type": "stream",
     "text": [
      "b'0011212545'\n"
     ]
    }
   ],
   "source": [
    "print(b\"0011212545\")"
   ]
  },
  {
   "cell_type": "code",
   "execution_count": 54,
   "id": "passive-promise",
   "metadata": {},
   "outputs": [
    {
     "data": {
      "text/plain": [
       "-1"
      ]
     },
     "execution_count": 54,
     "metadata": {},
     "output_type": "execute_result"
    }
   ],
   "source": [
    "FIO.find(\"о\",9,20)"
   ]
  },
  {
   "cell_type": "code",
   "execution_count": 57,
   "id": "rapid-margin",
   "metadata": {},
   "outputs": [
    {
     "data": {
      "text/plain": [
       "26"
      ]
     },
     "execution_count": 57,
     "metadata": {},
     "output_type": "execute_result"
    }
   ],
   "source": [
    "FIO.rfind(\"о\")"
   ]
  },
  {
   "cell_type": "code",
   "execution_count": 58,
   "id": "grave-cotton",
   "metadata": {},
   "outputs": [
    {
     "ename": "ValueError",
     "evalue": "substring not found",
     "output_type": "error",
     "traceback": [
      "\u001b[1;31m---------------------------------------------------------------------------\u001b[0m",
      "\u001b[1;31mValueError\u001b[0m                                Traceback (most recent call last)",
      "\u001b[1;32m<ipython-input-58-c5d0f44802fa>\u001b[0m in \u001b[0;36m<module>\u001b[1;34m\u001b[0m\n\u001b[1;32m----> 1\u001b[1;33m \u001b[0mFIO\u001b[0m\u001b[1;33m.\u001b[0m\u001b[0mindex\u001b[0m\u001b[1;33m(\u001b[0m\u001b[1;34m\"о\"\u001b[0m\u001b[1;33m,\u001b[0m\u001b[1;36m9\u001b[0m\u001b[1;33m,\u001b[0m\u001b[1;36m20\u001b[0m\u001b[1;33m)\u001b[0m\u001b[1;33m\u001b[0m\u001b[1;33m\u001b[0m\u001b[0m\n\u001b[0m",
      "\u001b[1;31mValueError\u001b[0m: substring not found"
     ]
    }
   ],
   "source": [
    "FIO.index(\"о\",9,20)"
   ]
  },
  {
   "cell_type": "code",
   "execution_count": 59,
   "id": "linear-notice",
   "metadata": {},
   "outputs": [
    {
     "data": {
      "text/plain": [
       "26"
      ]
     },
     "execution_count": 59,
     "metadata": {},
     "output_type": "execute_result"
    }
   ],
   "source": [
    "FIO.index(\"о\",9)"
   ]
  },
  {
   "cell_type": "code",
   "execution_count": 63,
   "id": "floating-teens",
   "metadata": {},
   "outputs": [
    {
     "name": "stdout",
     "output_type": "stream",
     "text": [
      "['Соломонов', 'Dмитрий', 'Владимирович']\n"
     ]
    }
   ],
   "source": [
    "ArrayFIO = FIO.split(' ')\n",
    "print(ArrayFIO)"
   ]
  },
  {
   "cell_type": "code",
   "execution_count": 64,
   "id": "commercial-liver",
   "metadata": {},
   "outputs": [
    {
     "name": "stdout",
     "output_type": "stream",
     "text": [
      "['С', 'л', 'м', 'н', 'в Dмитрий Владимир', 'вич']\n"
     ]
    }
   ],
   "source": [
    "ArrayFIO = FIO.split('о')\n",
    "print(ArrayFIO)"
   ]
  },
  {
   "cell_type": "code",
   "execution_count": 68,
   "id": "experienced-priest",
   "metadata": {},
   "outputs": [
    {
     "data": {
      "text/plain": [
       "True"
      ]
     },
     "execution_count": 68,
     "metadata": {},
     "output_type": "execute_result"
    }
   ],
   "source": [
    "numberOfSth = \"558\"\n",
    "numberOfSth.isdigit()"
   ]
  },
  {
   "cell_type": "code",
   "execution_count": 69,
   "id": "adjustable-table",
   "metadata": {},
   "outputs": [
    {
     "name": "stdout",
     "output_type": "stream",
     "text": [
      "СОЛОМОНОВ DМИТРИЙ ВЛАДИМИРОВИЧ\n"
     ]
    }
   ],
   "source": [
    "print(FIO.upper())"
   ]
  },
  {
   "cell_type": "code",
   "execution_count": 70,
   "id": "tight-selection",
   "metadata": {},
   "outputs": [
    {
     "data": {
      "text/plain": [
       "'Соломонов Dмитрий Владимирович'"
      ]
     },
     "execution_count": 70,
     "metadata": {},
     "output_type": "execute_result"
    }
   ],
   "source": [
    "FIO"
   ]
  },
  {
   "cell_type": "code",
   "execution_count": 75,
   "id": "parallel-michigan",
   "metadata": {},
   "outputs": [
    {
     "data": {
      "text/plain": [
       "'Соломонов Dмитрий Владимирович'"
      ]
     },
     "execution_count": 75,
     "metadata": {},
     "output_type": "execute_result"
    }
   ],
   "source": [
    "char = \"о\"\n",
    "char.join(ArrayFIO)"
   ]
  },
  {
   "cell_type": "code",
   "execution_count": 74,
   "id": "middle-visit",
   "metadata": {},
   "outputs": [
    {
     "data": {
      "text/plain": [
       "'____________________оasdasdasd____________________'"
      ]
     },
     "execution_count": 74,
     "metadata": {},
     "output_type": "execute_result"
    }
   ],
   "source": [
    "char.center(50,\"_\")"
   ]
  },
  {
   "cell_type": "code",
   "execution_count": 76,
   "id": "hundred-enclosure",
   "metadata": {},
   "outputs": [
    {
     "data": {
      "text/plain": [
       "('Соломонов Dми', 'трий', ' Владимирович')"
      ]
     },
     "execution_count": 76,
     "metadata": {},
     "output_type": "execute_result"
    }
   ],
   "source": [
    "FIO.partition(\"трий\")"
   ]
  },
  {
   "cell_type": "code",
   "execution_count": 77,
   "id": "biblical-girlfriend",
   "metadata": {},
   "outputs": [
    {
     "data": {
      "text/plain": [
       "'сОЛОМОНОВ dМИТРИЙ вЛАДИМИРОВИЧ'"
      ]
     },
     "execution_count": 77,
     "metadata": {},
     "output_type": "execute_result"
    }
   ],
   "source": [
    "FIO.swapcase()"
   ]
  },
  {
   "cell_type": "code",
   "execution_count": 79,
   "id": "valued-skiing",
   "metadata": {},
   "outputs": [
    {
     "name": "stdout",
     "output_type": "stream",
     "text": [
      "Фамилия Соломонов Имя Dмитрий\n"
     ]
    }
   ],
   "source": [
    "ArrayFIO = FIO.split(' ')\n",
    "\n",
    "\n",
    "print(\"Фамилия {0} Имя {1}\".format(ArrayFIO[0],ArrayFIO[1]))"
   ]
  },
  {
   "cell_type": "code",
   "execution_count": null,
   "id": "major-cover",
   "metadata": {},
   "outputs": [],
   "source": []
  }
 ],
 "metadata": {
  "kernelspec": {
   "display_name": "Python 3",
   "language": "python",
   "name": "python3"
  },
  "language_info": {
   "codemirror_mode": {
    "name": "ipython",
    "version": 3
   },
   "file_extension": ".py",
   "mimetype": "text/x-python",
   "name": "python",
   "nbconvert_exporter": "python",
   "pygments_lexer": "ipython3",
   "version": "3.7.8"
  }
 },
 "nbformat": 4,
 "nbformat_minor": 5
}
