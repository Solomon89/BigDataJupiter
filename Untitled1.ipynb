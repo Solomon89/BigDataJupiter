{
 "cells": [
  {
   "cell_type": "code",
   "execution_count": 3,
   "id": "arranged-wound",
   "metadata": {},
   "outputs": [],
   "source": [
    "import matplotlib.pyplot as plt\n",
    "from sklearn.linear_model import LinearRegression\n",
    "import numpy as np\n"
   ]
  },
  {
   "cell_type": "code",
   "execution_count": 4,
   "id": "mounted-services",
   "metadata": {},
   "outputs": [],
   "source": [
    "flyghtReiting = [\n",
    "    [3.9,\t0.7],\n",
    "    [3.9,\t0.68],\n",
    "    [3.8,\t0.59],\n",
    "    [3.7,\t0.25],\n",
    "    [3.6,\t0.63],\n",
    "    [3.3,\t0.5],\n",
    "    [3.3,\t0.46],\n",
    "    [3.3,\t0.24],\n",
    "    [3.2,\t0.23],\n",
    "    [3.2,\t0.6],\n",
    "    [3.2,\t0.46],\n",
    "    [3.2,\t0.5],\n",
    "    [3.2,\t0.51],\n",
    "    [3.1,\t0.3],\n",
    "    [3.1,\t0.55],\n",
    "    [3.1,\t0.6],\n",
    "    [3.1,\t0.76],\n",
    "    [3.1,\t0.46],\n",
    "    [3.1,\t0.3],\n",
    "    [3,\t0.35], \n",
    "    [3,\t0.4], \n",
    "    [3,\t0.35], \n",
    "    [3,\t0.3],\n",
    "    [2.9,\t0.3],\n",
    "    [2.9,\t0.57],\n",
    "    [2.8,\t0.33],\n",
    "    [2.7,\t0.3],\n",
    "    [2.6,\t0.3],\n",
    "    [2.3,\t0.4],\n",
    "    [2.1,\t0.25],\n",
    "\n",
    "]"
   ]
  },
  {
   "cell_type": "code",
   "execution_count": 5,
   "id": "outer-irrigation",
   "metadata": {},
   "outputs": [
    {
     "data": {
      "image/png": "[encoded data removed]",
      "text/plain": [
       "<Figure size 432x288 with 1 Axes>"
      ]
     },
     "metadata": {
      "needs_background": "light"
     },
     "output_type": "display_data"
    }
   ],
   "source": [
    "flyghtReiting=np.array(flyghtReiting)\n",
    "fig = plt.figure() \n",
    "plt.scatter(flyghtReiting[:,0],flyghtReiting[:,1])\n",
    "plt.show()"
   ]
  },
  {
   "cell_type": "code",
   "execution_count": 9,
   "id": "comparable-faculty",
   "metadata": {},
   "outputs": [
    {
     "data": {
      "text/plain": [
       "0.4920592224603669"
      ]
     },
     "execution_count": 9,
     "metadata": {},
     "output_type": "execute_result"
    }
   ],
   "source": [
    "np.corrcoef(flyghtReiting[:,0],flyghtReiting[:,1])[1][0]"
   ]
  },
  {
   "cell_type": "code",
   "execution_count": 13,
   "id": "bearing-figure",
   "metadata": {},
   "outputs": [],
   "source": [
    "x = flyghtReiting[:,0].reshape((-1, 1))\n",
    "y = flyghtReiting[:,1]"
   ]
  },
  {
   "cell_type": "code",
   "execution_count": 14,
   "id": "official-underwear",
   "metadata": {},
   "outputs": [],
   "source": [
    "model = LinearRegression()"
   ]
  },
  {
   "cell_type": "markdown",
   "id": "unavailable-commitment",
   "metadata": {},
   "source": [
    "Эта операция создаёт переменную model в качестве экземпляра LinearRegression. Вы можете предоставить несколько опциональных параметров классу LinearRegression:\n",
    "\n",
    "fit_intercept – логический (True по умолчанию) параметр, который решает, вычислять отрезок b₀ (True) или рассматривать его как равный нулю (False).\n",
    "normalize – логический (False по умолчанию) параметр, который решает, нормализовать входные переменные (True) или нет (False).\n",
    "copy_X – логический (True по умолчанию) параметр, который решает, копировать (True) или перезаписывать входные переменные (False).\n",
    "n_jobs – целое или None (по умолчанию), представляющее количество процессов, задействованных в параллельных вычислениях. None означает отсутствие процессов, при -1 используются все доступные процессоры."
   ]
  },
  {
   "cell_type": "markdown",
   "id": "special-child",
   "metadata": {},
   "source": [
    "Пришло время задействовать model. Сначала вызовите .fit() на model:"
   ]
  },
  {
   "cell_type": "code",
   "execution_count": 15,
   "id": "configured-destruction",
   "metadata": {},
   "outputs": [
    {
     "data": {
      "text/plain": [
       "LinearRegression()"
      ]
     },
     "execution_count": 15,
     "metadata": {},
     "output_type": "execute_result"
    }
   ],
   "source": [
    "model.fit(x, y)"
   ]
  },
  {
   "cell_type": "markdown",
   "id": "coral-advocate",
   "metadata": {},
   "source": [
    "С помощью .fit() вычисляются оптимальные значение весов b₀ и b₁, используя существующие вход и выход (x и y) в качестве аргументов. Другими словами, .fit() совмещает модель. \n",
    ".score() принимает в качестве аргументов предсказатель x и регрессор y, и возвращает значение R²."
   ]
  },
  {
   "cell_type": "code",
   "execution_count": 17,
   "id": "iraqi-cigarette",
   "metadata": {},
   "outputs": [
    {
     "name": "stdout",
     "output_type": "stream",
     "text": [
      "coefficient of determination: 0.2421222784083007\n"
     ]
    }
   ],
   "source": [
    "r_sq = model.score(x, y)\n",
    "print('coefficient of determination:', r_sq)"
   ]
  },
  {
   "cell_type": "markdown",
   "id": "innovative-president",
   "metadata": {},
   "source": [
    "model содержит атрибуты .intercept_, который представляет собой коэффициент, и b₀ с .coef_, которые представляют b₁:"
   ]
  },
  {
   "cell_type": "code",
   "execution_count": 18,
   "id": "dirty-array",
   "metadata": {},
   "outputs": [
    {
     "name": "stdout",
     "output_type": "stream",
     "text": [
      "intercept: -0.141990821222446\n"
     ]
    }
   ],
   "source": [
    "print('intercept:', model.intercept_)"
   ]
  },
  {
   "cell_type": "code",
   "execution_count": 19,
   "id": "democratic-buyer",
   "metadata": {},
   "outputs": [
    {
     "name": "stdout",
     "output_type": "stream",
     "text": [
      "slope: [0.18601627]\n"
     ]
    }
   ],
   "source": [
    "print('slope:', model.coef_)"
   ]
  },
  {
   "cell_type": "markdown",
   "id": "prescribed-horror",
   "metadata": {},
   "source": [
    "Код выше показывает, как получить b₀ и b₁. Заметьте, что .intercept_ – это скаляр, в то время как .coef_ – массив.\n",
    "\n",
    "Примерное значение b₀ = -0.141990821222446 показывает, что ваша модель предсказывает ответ 0.18601627 при x, равном нулю. Равенство b₁ = 0.54 означает, что предсказанный ответ возрастает до -0.141990821222446 при x, увеличенным на единицу."
   ]
  },
  {
   "cell_type": "code",
   "execution_count": 22,
   "id": "difficult-painting",
   "metadata": {},
   "outputs": [
    {
     "name": "stdout",
     "output_type": "stream",
     "text": [
      "intercept: [-0.14199082]\n"
     ]
    }
   ],
   "source": [
    "new_model = LinearRegression().fit(x, y.reshape((-1, 1)))\n",
    "print('intercept:', new_model.intercept_)"
   ]
  },
  {
   "cell_type": "code",
   "execution_count": 23,
   "id": "hired-sacrifice",
   "metadata": {},
   "outputs": [
    {
     "name": "stdout",
     "output_type": "stream",
     "text": [
      "slope: [[0.18601627]]\n"
     ]
    }
   ],
   "source": [
    "print('slope:', new_model.coef_)"
   ]
  },
  {
   "cell_type": "markdown",
   "id": "executed-verse",
   "metadata": {},
   "source": [
    "Предскажите ответ\n",
    "Когда вас устроит ваша модель, вы можете использовать её для прогнозов с текущими или другими данными.\n",
    "\n",
    "Получите предсказанный ответ, используя .predict():"
   ]
  },
  {
   "cell_type": "code",
   "execution_count": 24,
   "id": "centered-philadelphia",
   "metadata": {},
   "outputs": [
    {
     "name": "stdout",
     "output_type": "stream",
     "text": [
      "predicted response:\n",
      "[0.58347264 0.58347264 0.56487101 0.54626938 0.52766776 0.47186287\n",
      " 0.47186287 0.47186287 0.45326125 0.45326125 0.45326125 0.45326125\n",
      " 0.45326125 0.43465962 0.43465962 0.43465962 0.43465962 0.43465962\n",
      " 0.43465962 0.41605799 0.41605799 0.41605799 0.41605799 0.39745637\n",
      " 0.39745637 0.37885474 0.36025311 0.34165148 0.2858466  0.24864335]\n"
     ]
    }
   ],
   "source": [
    "y_pred = model.predict(x)\n",
    "print('predicted response:', y_pred, sep='\\n')"
   ]
  },
  {
   "cell_type": "code",
   "execution_count": 36,
   "id": "based-reserve",
   "metadata": {},
   "outputs": [
    {
     "data": {
      "image/png": "[encoded data removed]",
      "text/plain": [
       "<Figure size 432x288 with 1 Axes>"
      ]
     },
     "metadata": {},
     "output_type": "display_data"
    }
   ],
   "source": [
    "plt.scatter(x, y,  color='green')\n",
    "plt.plot(x, y_pred, color='orange', linewidth=3)\n",
    "\n",
    "plt.xticks(())\n",
    "plt.yticks(())\n",
    "\n",
    "plt.show()"
   ]
  },
  {
   "cell_type": "code",
   "execution_count": 39,
   "id": "conscious-pepper",
   "metadata": {},
   "outputs": [
    {
     "name": "stdout",
     "output_type": "stream",
     "text": [
      "Mean squared error: 0.02\n",
      "Coefficient of determination: 0.24\n"
     ]
    }
   ],
   "source": [
    "from sklearn.metrics import mean_squared_error, r2_score\n",
    "print('Mean squared error: %.2f'\n",
    "      % mean_squared_error(y,y_pred))\n",
    "# The coefficient of determination: 1 is perfect prediction\n",
    "print('Coefficient of determination: %.2f'\n",
    "      % r2_score(y,y_pred))\n",
    "\n"
   ]
  },
  {
   "cell_type": "code",
   "execution_count": 27,
   "id": "interesting-engine",
   "metadata": {},
   "outputs": [
    {
     "name": "stdout",
     "output_type": "stream",
     "text": [
      "Coefficients: \n",
      " [938.23786125]\n",
      "Mean squared error: 2548.07\n",
      "Coefficient of determination: 0.47\n"
     ]
    },
    {
     "data": {
      "image/png": "[encoded data removed]",
      "text/plain": [
       "<Figure size 432x288 with 1 Axes>"
      ]
     },
     "metadata": {},
     "output_type": "display_data"
    }
   ],
   "source": [
    "import matplotlib.pyplot as plt\n",
    "import numpy as np\n",
    "from sklearn import datasets, linear_model\n",
    "from sklearn.metrics import mean_squared_error, r2_score\n",
    "\n",
    "# Load the diabetes dataset\n",
    "diabetes_X, diabetes_y = datasets.load_diabetes(return_X_y=True)\n",
    "\n",
    "# Use only one feature\n",
    "diabetes_X = diabetes_X[:, np.newaxis, 2]\n",
    "\n",
    "# Split the data into training/testing sets\n",
    "diabetes_X_train = diabetes_X[:-20]\n",
    "diabetes_X_test = diabetes_X[-20:]\n",
    "\n",
    "# Split the targets into training/testing sets\n",
    "diabetes_y_train = diabetes_y[:-20]\n",
    "diabetes_y_test = diabetes_y[-20:]\n",
    "\n",
    "# Create linear regression object\n",
    "regr = linear_model.LinearRegression()\n",
    "\n",
    "# Train the model using the training sets\n",
    "regr.fit(diabetes_X_train, diabetes_y_train)\n",
    "\n",
    "# Make predictions using the testing set\n",
    "diabetes_y_pred = regr.predict(diabetes_X_test)\n",
    "\n",
    "# The coefficients\n",
    "print('Coefficients: \\n', regr.coef_)\n",
    "# The mean squared error\n",
    "print('Mean squared error: %.2f'\n",
    "      % mean_squared_error(diabetes_y_test, diabetes_y_pred))\n",
    "# The coefficient of determination: 1 is perfect prediction\n",
    "print('Coefficient of determination: %.2f'\n",
    "      % r2_score(diabetes_y_test, diabetes_y_pred))\n",
    "\n",
    "# Plot outputs\n",
    "plt.scatter(diabetes_X_test, diabetes_y_test,  color='black')\n",
    "plt.plot(diabetes_X_test, diabetes_y_pred, color='orange', linewidth=3)\n",
    "\n",
    "plt.xticks(())\n",
    "plt.yticks(())\n",
    "\n",
    "plt.show()"
   ]
  },
  {
   "cell_type": "code",
   "execution_count": 33,
   "id": "moral-clear",
   "metadata": {},
   "outputs": [
    {
     "ename": "FeatureNotFound",
     "evalue": "Couldn't find a tree builder with the features you requested: lxml. Do you need to install a parser library?",
     "output_type": "error",
     "traceback": [
      "\u001b[1;31m---------------------------------------------------------------------------\u001b[0m",
      "\u001b[1;31mFeatureNotFound\u001b[0m                           Traceback (most recent call last)",
      "\u001b[1;32m<ipython-input-33-e8b506b49241>\u001b[0m in \u001b[0;36m<module>\u001b[1;34m\u001b[0m\n\u001b[0;32m      7\u001b[0m \u001b[0murl\u001b[0m \u001b[1;33m=\u001b[0m \u001b[1;34m'https://ru.wikipedia.org/wiki/Список_чемпионов_мира_«Формулы-1»'\u001b[0m\u001b[1;33m\u001b[0m\u001b[1;33m\u001b[0m\u001b[0m\n\u001b[0;32m      8\u001b[0m \u001b[0mresponse\u001b[0m \u001b[1;33m=\u001b[0m \u001b[0mrequests\u001b[0m\u001b[1;33m.\u001b[0m\u001b[0mget\u001b[0m\u001b[1;33m(\u001b[0m\u001b[0murl\u001b[0m\u001b[1;33m)\u001b[0m\u001b[1;33m\u001b[0m\u001b[1;33m\u001b[0m\u001b[0m\n\u001b[1;32m----> 9\u001b[1;33m \u001b[0msoup\u001b[0m \u001b[1;33m=\u001b[0m \u001b[0mBeautifulSoup\u001b[0m\u001b[1;33m(\u001b[0m\u001b[0mresponse\u001b[0m\u001b[1;33m.\u001b[0m\u001b[0mtext\u001b[0m\u001b[1;33m,\u001b[0m \u001b[1;34m'lxml'\u001b[0m\u001b[1;33m)\u001b[0m\u001b[1;33m\u001b[0m\u001b[1;33m\u001b[0m\u001b[0m\n\u001b[0m\u001b[0;32m     10\u001b[0m \u001b[0mTbody\u001b[0m \u001b[1;33m=\u001b[0m \u001b[0msoup\u001b[0m\u001b[1;33m.\u001b[0m\u001b[0mfind_all\u001b[0m\u001b[1;33m(\u001b[0m\u001b[1;34m'tbody'\u001b[0m\u001b[1;33m)\u001b[0m\u001b[1;33m\u001b[0m\u001b[1;33m\u001b[0m\u001b[0m\n\u001b[0;32m     11\u001b[0m \u001b[1;33m\u001b[0m\u001b[0m\n",
      "\u001b[1;32m~\\AppData\\Roaming\\Python\\Python37\\site-packages\\bs4\\__init__.py\u001b[0m in \u001b[0;36m__init__\u001b[1;34m(self, markup, features, builder, parse_only, from_encoding, exclude_encodings, element_classes, **kwargs)\u001b[0m\n\u001b[0;32m    244\u001b[0m                     \u001b[1;34m\"Couldn't find a tree builder with the features you \"\u001b[0m\u001b[1;33m\u001b[0m\u001b[1;33m\u001b[0m\u001b[0m\n\u001b[0;32m    245\u001b[0m                     \u001b[1;34m\"requested: %s. Do you need to install a parser library?\"\u001b[0m\u001b[1;33m\u001b[0m\u001b[1;33m\u001b[0m\u001b[0m\n\u001b[1;32m--> 246\u001b[1;33m                     % \",\".join(features))\n\u001b[0m\u001b[0;32m    247\u001b[0m \u001b[1;33m\u001b[0m\u001b[0m\n\u001b[0;32m    248\u001b[0m         \u001b[1;31m# At this point either we have a TreeBuilder instance in\u001b[0m\u001b[1;33m\u001b[0m\u001b[1;33m\u001b[0m\u001b[1;33m\u001b[0m\u001b[0m\n",
      "\u001b[1;31mFeatureNotFound\u001b[0m: Couldn't find a tree builder with the features you requested: lxml. Do you need to install a parser library?"
     ]
    }
   ],
   "source": [
    "import requests\n",
    "import numpy as np\n",
    "import matplotlib.pyplot as plt\n",
    "from bs4 import BeautifulSoup\n",
    "from sklearn.linear_model import LinearRegression\n",
    "\n",
    "url = 'https://ru.wikipedia.org/wiki/Список_чемпионов_мира_«Формулы-1»'\n",
    "response = requests.get(url)\n",
    "soup = BeautifulSoup(response.text, 'lxml')\n",
    "Tbody = soup.find_all('tbody')\n",
    "\n",
    "tds = Tbody[1].find_all('td')\n",
    "id = 0\n",
    "leng = 12\n",
    "array = []\n",
    "line = []\n",
    "for td in tds:\n",
    "    line.append(td.text.replace(\"\\n\",\"\"))\n",
    "    if (id % leng == 0 and id != 0):\n",
    "        array.append(line)\n",
    "        line = []\n",
    "    id+=1\n",
    "#print(array)\n",
    "toNP = []\n",
    "for item in array:\n",
    "    item[4] = item[4].replace(\"[K 3]\",\"\").replace(\"[K 1]\",\"\")\n",
    "    item[7] = item[7].replace(\",5\",\"\")\n",
    "    toNP.append([int(item[4]),int(item[6])])\n",
    "    #toNP.append([(item[4]),(item[10])])\n",
    "    \n",
    "\n",
    "npArray = np.array(toNP)\n",
    "\n",
    "x = npArray[:,0].reshape((-1, 1))\n",
    "y = npArray[:,1]\n",
    "\n",
    "\n",
    "\n",
    "new_model = LinearRegression().fit(x,y)\n",
    "y_pred = new_model.predict(x)\n",
    "plt.scatter(x, y,  color='black')\n",
    "plt.plot(x, y_pred, color='orange', linewidth=3)\n",
    "\n",
    "plt.xticks(())\n",
    "plt.yticks(())\n",
    "\n",
    "plt.show()"
   ]
  },
  {
   "cell_type": "code",
   "execution_count": null,
   "id": "looking-bridges",
   "metadata": {},
   "outputs": [],
   "source": []
  }
 ],
 "metadata": {
  "kernelspec": {
   "display_name": "Python 3",
   "language": "python",
   "name": "python3"
  },
  "language_info": {
   "codemirror_mode": {
    "name": "ipython",
    "version": 3
   },
   "file_extension": ".py",
   "mimetype": "text/x-python",
   "name": "python",
   "nbconvert_exporter": "python",
   "pygments_lexer": "ipython3",
   "version": "3.7.8"
  }
 },
 "nbformat": 4,
 "nbformat_minor": 5
}
